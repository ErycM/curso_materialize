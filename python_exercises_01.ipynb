{
  "nbformat": 4,
  "nbformat_minor": 0,
  "metadata": {
    "colab": {
      "name": "python_exercises_01.ipynb",
      "provenance": [],
      "collapsed_sections": [],
      "include_colab_link": true
    },
    "kernelspec": {
      "name": "python3",
      "display_name": "Python 3"
    }
  },
  "cells": [
    {
      "cell_type": "markdown",
      "metadata": {
        "id": "view-in-github",
        "colab_type": "text"
      },
      "source": [
        "<a href=\"https://colab.research.google.com/github/ErycM/curso_materialize/blob/master/python_exercises_01.ipynb\" target=\"_parent\"><img src=\"https://colab.research.google.com/assets/colab-badge.svg\" alt=\"Open In Colab\"/></a>"
      ]
    },
    {
      "cell_type": "markdown",
      "metadata": {
        "id": "8YqaSZgXYJ5g"
      },
      "source": [
        "![](https://i.imgur.com/YX6UATs.png)\n"
      ]
    },
    {
      "cell_type": "markdown",
      "metadata": {
        "id": "hhUVzDipaGb9"
      },
      "source": [
        "### **Exercícios de Python - 1** \n",
        "\n",
        "\n",
        "\n"
      ]
    },
    {
      "cell_type": "markdown",
      "metadata": {
        "id": "qMGp-h8OaGqr"
      },
      "source": [
        "1 - Faça um programa, com uma função que necessite de três argumentos, e que forneça a soma desses três argumentos."
      ]
    },
    {
      "cell_type": "code",
      "metadata": {
        "id": "kTg-D89NdCld",
        "colab": {
          "base_uri": "https://localhost:8080/"
        },
        "outputId": "5c6f9e88-920d-4d8c-f5f2-3847820db944"
      },
      "source": [
        "x = input(\"Digite o primeiro argumento: \")\n",
        "y = input(\"Digite o segundo argumento: \")\n",
        "z = input(\"Digite o terceiro argumento: \")\n",
        "3\n",
        "\n",
        "\n",
        "if x.strip().isdigit() and z.strip().isdigit() and z.strip().isdigit(): #Verificar se os 3 inputs são um número\n",
        "  result = float(x) + float(y) + float(z)\n",
        "  print(\"entrou\")\n",
        "  print(result)\n",
        "\n",
        "else:\n",
        "  result = (x + y + z)\n",
        "  print(result)\n",
        "\n"
      ],
      "execution_count": null,
      "outputs": [
        {
          "output_type": "stream",
          "text": [
            "Digite o primeiro argumento: x\n",
            "Digite o segundo argumento: y\n",
            "Digite o terceiro argumento: z\n",
            "xyz\n"
          ],
          "name": "stdout"
        }
      ]
    },
    {
      "cell_type": "markdown",
      "metadata": {
        "id": "KdLXZftIaG60"
      },
      "source": [
        "2 - Faça um Programa que peça a temperatura em graus Celsius, transforme e mostre em graus Fahrenheit. \\\n",
        "*Dica: procure a fórmula para essa conversão na internet*"
      ]
    },
    {
      "cell_type": "code",
      "metadata": {
        "id": "MNINJ32eU45M",
        "colab": {
          "base_uri": "https://localhost:8080/"
        },
        "outputId": "28b64be0-116c-458b-9c57-03655fb3dd78"
      },
      "source": [
        "celsius = input(\"Digite a temperatura em Celsius: \")\n",
        "fahrenheit = (float(celsius) * 9/5) + 32\n",
        "\n",
        "print(\"Temperatura Celsius:\"+str(celsius)+\" Temperatura Fahrenheit: \"+str(fahrenheit))"
      ],
      "execution_count": null,
      "outputs": [
        {
          "output_type": "stream",
          "text": [
            "Digite a temperatura em Celsius: 30\n",
            "Temperatura Celsius:30 Temperatura Fahrenheit: 86.0\n"
          ],
          "name": "stdout"
        }
      ]
    },
    {
      "cell_type": "markdown",
      "metadata": {
        "id": "4OETBVgmaGzX"
      },
      "source": [
        "3 - Faça um Programa que peça um número inteiro e determine se ele é par ou impar. Dica: utilize o operador módulo (resto da divisão)."
      ]
    },
    {
      "cell_type": "code",
      "metadata": {
        "id": "WbzCimFZVSr1",
        "colab": {
          "base_uri": "https://localhost:8080/"
        },
        "outputId": "65b362bf-19f5-45d5-b0fe-11ff2dd6db79"
      },
      "source": [
        "number = input(\"Digite um numero inteiro: \")\n",
        "\n",
        "\n",
        "if (int(number) % 2 == 0):\n",
        "  print(\"par\")\n",
        "else:\n",
        "  print(\"impar\")"
      ],
      "execution_count": null,
      "outputs": [
        {
          "output_type": "stream",
          "text": [
            "Digite um numero inteiro: 5\n",
            "impar\n"
          ],
          "name": "stdout"
        }
      ]
    },
    {
      "cell_type": "markdown",
      "metadata": {
        "id": "7zPJ8sgPaGw0"
      },
      "source": [
        "4 - Faça um programa que peça o tamanho de um arquivo para download (em MB) e a velocidade de um link de Internet (em Mbps), calcule e informe o tempo aproximado de download do arquivo usando este link (em minutos)."
      ]
    },
    {
      "cell_type": "code",
      "metadata": {
        "id": "l4qtSxU7XquB",
        "colab": {
          "base_uri": "https://localhost:8080/"
        },
        "outputId": "2107347d-df00-4400-a56a-a32aab16720b"
      },
      "source": [
        "file = float(input(\"Digite o tamanho do arquivo para download em MB: \"))\n",
        "spd = float(input(\"Digite a velocidade da internet em Mbps: \"))\n",
        "\n",
        "#1 Mbps = 0.125 MB/s\n",
        "spd_p_sec = spd * 0.125\n",
        "\n",
        "download_spd_p_sec = (file / spd_p_sec) / 60\n",
        "\n",
        "print(download_spd_p_sec)\n",
        "\n",
        "\n"
      ],
      "execution_count": null,
      "outputs": [
        {
          "output_type": "stream",
          "text": [
            "Digite o tamanho do arquivo para download em MB: 100\n",
            "Digite a velocidade da internet em Mbps: 5\n",
            "2.6666666666666665\n"
          ],
          "name": "stdout"
        }
      ]
    },
    {
      "cell_type": "markdown",
      "metadata": {
        "id": "0tkhm6EUaG1u"
      },
      "source": [
        "5 - Faça um programa para a leitura de duas notas parciais de um aluno. O programa deve calcular a média alcançada por aluno e apresentar:\n",
        "- A mensagem \"Aprovado\", se a média alcançada for maior ou igual a sete;\n",
        "- A mensagem \"Reprovado\", se a média for menor do que sete;\n",
        "- A mensagem \"Aprovado com Distinção\", se a média for igual a dez."
      ]
    },
    {
      "cell_type": "code",
      "metadata": {
        "id": "990mQ6UhdwKl",
        "colab": {
          "base_uri": "https://localhost:8080/"
        },
        "outputId": "e4e2ab21-fd24-4c78-a07c-310fd36f4e18"
      },
      "source": [
        "n1 = float(input(\"Digite a primeira nota: \"))\n",
        "n2 = float(input(\"Digite a segunda nota: \"))\n",
        "\n",
        "med = (n1+n2)/2\n",
        "\n",
        "if med >= 7:\n",
        "  if med == 10:\n",
        "      print (\"Aprovado com Distinção\")\n",
        "  else:    \n",
        "    print(\"Aprovado\")\n",
        "  \n",
        "else:\n",
        "  print(\"reprovado\")\n",
        "\n"
      ],
      "execution_count": null,
      "outputs": [
        {
          "output_type": "stream",
          "text": [
            "Digite a primeira nota: 4\n",
            "Digite a segunda nota: 4\n",
            "reprovado\n"
          ],
          "name": "stdout"
        }
      ]
    },
    {
      "cell_type": "markdown",
      "metadata": {
        "id": "Lm1tOKThnU42"
      },
      "source": [
        "Exercícios adaptados de Python Brasil"
      ]
    }
  ]
}